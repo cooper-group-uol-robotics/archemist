{
 "cells": [
  {
   "cell_type": "code",
   "execution_count": 14,
   "metadata": {},
   "outputs": [
    {
     "name": "stdout",
     "output_type": "stream",
     "text": [
      "importing done\n"
     ]
    }
   ],
   "source": [
    "#!/usr/bin/env python3\n",
    "\n",
    "import unittest\n",
    "\n",
    "from archemist.stations.mt_synthesis_station.state import (\n",
    "    MTSynthesisStation,\n",
    "    MTSynthHeatStirOp,\n",
    "    MTSynthSampleOp,\n",
    "    MTSynthStopReactionOp,\n",
    "    MTSynthTimedOpenReactionValveOp,\n",
    "    MTSynthOpenReactionValveOp,\n",
    "    MTSynthCloseReactionValveOp\n",
    ")\n",
    "\n",
    "from archemist.core.state.material import Liquid\n",
    "\n",
    "from archemist.stations.mt_synthesis_station.handler import APCMTSynthesisStationRosHandler\n",
    "from archemist.core.state.batch import Batch\n",
    "from archemist.core.state.lot import Lot\n",
    "from archemist.core.util.enums import StationState, OpOutcome\n",
    "from archemist.core.state.station_op_result import ProcessOpResult, MaterialOpResult\n",
    "from archemist.core.persistence.models_proxy import ModelProxy, ListProxy, DictProxy\n",
    "from archemist.stations.apc_weighing_station.handler import SimAPCWeighingStationHandler\n",
    "\n",
    "from archemist.core.state.robot_op import RobotTaskOp, RobotWaitOp\n",
    "from archemist.core.state.batch import Batch\n",
    "from archemist.core.state.lot import Lot\n",
    "from archemist.core.util.enums import OpOutcome, ProcessStatus\n",
    "\n",
    "from datetime import datetime\n",
    "\n",
    "import time\n",
    "\n",
    "from mongoengine import connect\n",
    "\n",
    "print(\"importing done\")\n",
    "\n",
    "\n",
    "class APCSynthesisStationHandlerTest(unittest.TestCase):\n",
    "    def setUp(self):\n",
    "        self._db_name = 'archemist_test'\n",
    "        self._client = connect(db=self._db_name, host='mongodb://localhost:27017', alias='archemist_state')\n",
    "\n",
    "        self.station_doc = {\n",
    "            'type': 'MTSynthesisStation',\n",
    "            'id': 21,\n",
    "            'location': {'coordinates': [1,7], 'descriptor': \"MTSynthesisStation\"},\n",
    "            'total_lot_capacity': 1,\n",
    "            'handler': 'SimStationOpHandler',\n",
    "            'properties': \n",
    "            {\n",
    "                'num_sampling_vials': 12\n",
    "            },\n",
    "            'materials': None\n",
    "        }\n",
    "\n",
    "    def test_handler(self):\n",
    "        station = MTSynthesisStation.from_dict(self.station_doc)\n",
    "        self.assertIsNotNone(station)\n",
    "        self.assertEqual(station.state, StationState.INACTIVE)\n",
    "            # construct lot\n",
    "        batch = Batch.from_args(1)\n",
    "        lot = Lot.from_args([batch])\n",
    "\n",
    "        # add lot to station\n",
    "        station.add_lot(lot)\n",
    "\n",
    "        # construct handler\n",
    "        handler = APCMTSynthesisStationRosHandler(station)\n",
    "        # initialise handler\n",
    "        self.assertTrue(handler.initialise())\n",
    "\n",
    "        # test IKAHeatStirBatchOp\n",
    "        # construct op\n",
    "        sample = lot.batches[0].samples[0]\n",
    "        # t_op = MTSynthHeatStirOp.from_args(target_sample=sample, target_temperature=20, target_stirring_speed=600,wait_duration=5,time_unit=\"minute\", stir_duration=23)\n",
    "        # t_op = MTSynthSampleOp.from_args(target_sample=sample, target_temperature=23, target_stirring_speed=200, dilution=90)\n",
    "        # t_op = MTSynthStopReactionOp.from_args()\n",
    "        # t_op = MTSynthTimedOpenReactionValveOp.from_args(duration=3,time_unit=\"second\")\n",
    "        # t_op = MTSynthOpenReactionValveOp.from_args()\n",
    "        t_op = MTSynthCloseReactionValveOp.from_args()\n",
    "\n",
    "\n",
    "        self.assertIsNotNone(t_op.object_id)\n",
    "\n",
    "        station.add_station_op(t_op)\n",
    "        station.update_assigned_op()\n",
    "        self.assertEqual(station.assigned_op, t_op)\n",
    "\n",
    "\n",
    "        # execute op\n",
    "        handler._seq_id = 8\n",
    "        handler.execute_op()\n",
    "\n",
    "        # wait for results\n",
    "        handler.is_op_execution_complete()\n",
    "\n",
    "        self.assertEqual(handler.is_op_execution_complete(), False)\n",
    "\n",
    "        while True:\n",
    "            if handler.is_op_execution_complete():\n",
    "                print(\"got the completion msg, moving on\")\n",
    "                break\n",
    "            else:\n",
    "                print(\"didn't get the completion msg, hence trying\")\n",
    "            time.sleep(2)\n",
    "\n",
    "        self.assertEqual(handler.is_op_execution_complete(), True)\n",
    "\n",
    "\n",
    "\n",
    "        outcome, op_results = handler.get_op_result()\n",
    "\n",
    "\n",
    "        self.assertEqual(outcome, OpOutcome.SUCCEEDED)\n",
    "        # self.assertIsInstance(op_results[0], ProcessOpResult)\n",
    "        self.assertEqual(op_results, None)\n",
    "\n",
    "\n"
   ]
  },
  {
   "cell_type": "code",
   "execution_count": 15,
   "metadata": {},
   "outputs": [
    {
     "name": "stdout",
     "output_type": "stream",
     "text": [
      "[Batch-65ba849f2a2156e2b7c85460]: (MTSynthesisStation_21) stamp is added.\n",
      "[MTSynthesisStation_21]: Lot-65ba849f2a2156e2b7c85462 is added for processing at slot 0\n",
      "[MTSynthesisStation_21]: <archemist.stations.mt_synthesis_station.state.MTSynthCloseReactionValveOp object at 0x7f20300690d0> is added to queued_op list\n",
      "[INFO] [1706722465.247483]: Base valve close\n",
      "didn't get the completion msg, hence trying\n",
      "didn't get the completion msg, hence trying\n",
      "didn't get the completion msg, hence trying\n",
      "didn't get the completion msg, hence trying\n",
      "didn't get the completion msg, hence trying\n"
     ]
    },
    {
     "name": "stderr",
     "output_type": "stream",
     "text": [
      "."
     ]
    },
    {
     "name": "stdout",
     "output_type": "stream",
     "text": [
      "got the completion msg, moving on\n"
     ]
    },
    {
     "name": "stderr",
     "output_type": "stream",
     "text": [
      "\n",
      "----------------------------------------------------------------------\n",
      "Ran 1 test in 12.118s\n",
      "\n",
      "OK\n"
     ]
    },
    {
     "data": {
      "text/plain": [
       "<unittest.runner.TextTestResult run=1 errors=0 failures=0>"
      ]
     },
     "execution_count": 15,
     "metadata": {},
     "output_type": "execute_result"
    }
   ],
   "source": [
    "# Create a TestSuite\n",
    "# Balance_suite = unittest.TestLoader().loadTestsFromTestCase(APCWeighingStationHandlerTest)\n",
    "optimax_suite = unittest.TestLoader().loadTestsFromTestCase(APCSynthesisStationHandlerTest)\n",
    "\n",
    "# Run the tests\n",
    "unittest.TextTestRunner().run(optimax_suite)\n"
   ]
  }
 ],
 "metadata": {
  "kernelspec": {
   "display_name": "Python 3",
   "language": "python",
   "name": "python3"
  },
  "language_info": {
   "codemirror_mode": {
    "name": "ipython",
    "version": 3
   },
   "file_extension": ".py",
   "mimetype": "text/x-python",
   "name": "python",
   "nbconvert_exporter": "python",
   "pygments_lexer": "ipython3",
   "version": "3.8.10"
  }
 },
 "nbformat": 4,
 "nbformat_minor": 2
}
