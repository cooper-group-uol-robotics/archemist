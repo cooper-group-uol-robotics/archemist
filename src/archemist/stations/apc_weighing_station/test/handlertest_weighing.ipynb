{
 "cells": [
  {
   "cell_type": "code",
   "execution_count": 10,
   "metadata": {},
   "outputs": [
    {
     "name": "stdout",
     "output_type": "stream",
     "text": [
      "importing done\n"
     ]
    }
   ],
   "source": [
    "#!/usr/bin/env python3\n",
    "\n",
    "# %env ROS_DISTRO=noetic\n",
    "# %env ROS_PACKAGE_PATH=/ARChemist_ws/src/roslabware_msgs:$ROS_PACKAGE_PATH\n",
    "# # export ROS_MASTER_IP=172.31.1.77\n",
    "# # export ROS_MASTER_URI=http://$ROS_MASTER_IP:11311\n",
    "# %env ROS_MASTER_URI=http://172.31.1.77:11311\n",
    "\n",
    "\n",
    "import unittest\n",
    "\n",
    "import time\n",
    "\n",
    "from archemist.stations.apc_weighing_station.state import (\n",
    "    APCWeighingStation, \n",
    "    APCOpenBalanceDoorOp, \n",
    "    APCCloseBalanceDoorOp,\n",
    "    APCTareOp,\n",
    "    APCWeighingOp,\n",
    "    APCWeighResult\n",
    ")\n",
    "\n",
    "from archemist.core.state.material import Liquid\n",
    "\n",
    "from archemist.stations.apc_weighing_station.handler import APCWeighingStationHandler\n",
    "from archemist.core.state.batch import Batch\n",
    "from archemist.core.state.lot import Lot\n",
    "from archemist.core.util.enums import StationState, OpOutcome\n",
    "from archemist.core.state.station_op_result import ProcessOpResult, MaterialOpResult\n",
    "from archemist.core.persistence.models_proxy import ModelProxy, ListProxy, DictProxy\n",
    "from archemist.stations.apc_weighing_station.process import APCWeighingProcess\n",
    "from archemist.stations.apc_weighing_station.handler import SimAPCWeighingStationHandler\n",
    "\n",
    "from archemist.core.state.robot_op import RobotTaskOp, RobotWaitOp\n",
    "from archemist.core.state.batch import Batch\n",
    "from archemist.core.state.lot import Lot\n",
    "from archemist.core.util.enums import OpOutcome, ProcessStatus\n",
    "\n",
    "from datetime import datetime\n",
    "\n",
    "from mongoengine import connect\n",
    "\n",
    "print(\"importing done\")\n",
    "\n",
    "\n",
    "class APCWeighingStationHandlerTest(unittest.TestCase):\n",
    "    def setUp(self):\n",
    "        self._db_name = 'archemist_test'\n",
    "        self._client = connect(db=self._db_name, host='mongodb://localhost:27017', alias='archemist_state')\n",
    "\n",
    "        self.station_doc = {\n",
    "            'type': 'APCWeighingStation',\n",
    "            'id': 35,\n",
    "            'location': {'coordinates': [1,7], 'descriptor': \"ApcWeighingStation\"},\n",
    "            'total_lot_capacity': 1,\n",
    "            'handler': 'StationOpHandler',\n",
    "            'properties': \n",
    "            {\n",
    "                'funnel_storage_capacity': 3\n",
    "            },\n",
    "            'materials': None\n",
    "        }\n",
    "\n",
    "    def test_handler(self):\n",
    "        station = APCWeighingStation.from_dict(self.station_doc)\n",
    "        self.assertIsNotNone(station)\n",
    "        self.assertEqual(station.state, StationState.INACTIVE)\n",
    "            # construct lot\n",
    "        batch = Batch.from_args(1)\n",
    "        lot = Lot.from_args([batch])\n",
    "\n",
    "        # add lot to station\n",
    "        station.add_lot(lot)\n",
    "\n",
    "        # construct handler\n",
    "        handler = APCWeighingStationHandler(station)\n",
    "        # initialise handler\n",
    "        self.assertTrue(handler.initialise())\n",
    "\n",
    "        # test IKAHeatStirBatchOp\n",
    "        # construct op\n",
    "        sample = lot.batches[0].samples[0]\n",
    "        t_op = APCWeighingOp.from_args(target_sample=sample)\n",
    "        # t_op = APCCloseBalanceDoorOp.from_args()\n",
    "\n",
    "        self.assertIsNotNone(t_op.object_id)\n",
    "\n",
    "        station.add_station_op(t_op)\n",
    "        station.update_assigned_op()\n",
    "        self.assertEqual(station.assigned_op, t_op)\n",
    "\n",
    "\n",
    "        # execute op\n",
    "        handler._seq_id = 40\n",
    "        handler.execute_op()\n",
    "\n",
    "        # wait for results\n",
    "        handler.is_op_execution_complete()\n",
    "\n",
    "        self.assertEqual(handler.is_op_execution_complete(), False)\n",
    "\n",
    "        while True:\n",
    "            if handler.is_op_execution_complete():\n",
    "                print(\"got the completion msg, moving on\")\n",
    "                print(\"read mass is :\", handler.read_weight , \"g\")\n",
    "                break\n",
    "            else:\n",
    "                print(\"didn't get the completion msg, hence trying\")\n",
    "            time.sleep(2)\n",
    "\n",
    "        self.assertEqual(handler.is_op_execution_complete(), True)\n",
    "\n",
    "        outcome, op_results = handler.get_op_result()\n",
    "\n",
    "        self.assertEqual(outcome, OpOutcome.SUCCEEDED)\n",
    "        self.assertIsInstance(op_results[0], APCWeighResult)\n",
    "        # self.assertEqual(op_results, None)\n",
    "\n",
    "\n",
    "\n",
    "# if __name__ == '__main__':\n",
    "#     unittest.main()\n"
   ]
  },
  {
   "cell_type": "code",
   "execution_count": 11,
   "metadata": {},
   "outputs": [
    {
     "name": "stdout",
     "output_type": "stream",
     "text": [
      "[Batch-65b8d2c6448157c354cdb9ff]: (APCWeighingStation_35) stamp is added.\n",
      "[APCWeighingStation_35]: Lot-65b8d2c6448157c354cdba01 is added for processing at slot 0\n",
      "[APCWeighingStation_35]: <archemist.stations.apc_weighing_station.state.APCWeighingOp object at 0x7f12382392b0> is added to queued_op list\n",
      "[INFO] [1706611400.248998]: Reading stable weight.\n",
      "didn't get the completion msg, hence trying\n",
      "didn't get the completion msg, hence trying\n"
     ]
    },
    {
     "name": "stderr",
     "output_type": "stream",
     "text": [
      "."
     ]
    },
    {
     "name": "stdout",
     "output_type": "stream",
     "text": [
      "got the completion msg, moving on\n",
      "read mass is : 0.05000000074505806 g\n"
     ]
    },
    {
     "name": "stderr",
     "output_type": "stream",
     "text": [
      "\n",
      "----------------------------------------------------------------------\n",
      "Ran 1 test in 6.238s\n",
      "\n",
      "OK\n"
     ]
    },
    {
     "data": {
      "text/plain": [
       "<unittest.runner.TextTestResult run=1 errors=0 failures=0>"
      ]
     },
     "execution_count": 11,
     "metadata": {},
     "output_type": "execute_result"
    }
   ],
   "source": [
    "# Create a TestSuite\n",
    "Balance_suite = unittest.TestLoader().loadTestsFromTestCase(APCWeighingStationHandlerTest)\n",
    "# Run the tests\n",
    "unittest.TextTestRunner().run(Balance_suite)"
   ]
  },
  {
   "cell_type": "code",
   "execution_count": 12,
   "metadata": {},
   "outputs": [
    {
     "name": "stdout",
     "output_type": "stream",
     "text": [
      "importing done\n"
     ]
    }
   ],
   "source": [
    "#!/usr/bin/env python3\n",
    "\n",
    "# %env ROS_DISTRO=noetic\n",
    "# %env ROS_PACKAGE_PATH=/ARChemist_ws/src/roslabware_msgs:$ROS_PACKAGE_PATH\n",
    "# # export ROS_MASTER_IP=172.31.1.77\n",
    "# # export ROS_MASTER_URI=http://$ROS_MASTER_IP:11311\n",
    "# %env ROS_MASTER_URI=http://172.31.1.77:11311\n",
    "\n",
    "\n",
    "import unittest\n",
    "\n",
    "import time\n",
    "\n",
    "from archemist.stations.apc_weighing_station.state import (\n",
    "    APCWeighingStation, \n",
    "    APCOpenBalanceDoorOp, \n",
    "    APCCloseBalanceDoorOp,\n",
    "    APCTareOp,\n",
    "    APCWeighingOp,\n",
    "    APCWeighResult\n",
    ")\n",
    "\n",
    "from archemist.core.state.material import Liquid\n",
    "\n",
    "from archemist.stations.apc_weighing_station.handler import APCWeighingStationHandler\n",
    "from archemist.core.state.batch import Batch\n",
    "from archemist.core.state.lot import Lot\n",
    "from archemist.core.util.enums import StationState, OpOutcome\n",
    "from archemist.core.state.station_op_result import ProcessOpResult, MaterialOpResult\n",
    "from archemist.core.persistence.models_proxy import ModelProxy, ListProxy, DictProxy\n",
    "from archemist.stations.apc_weighing_station.process import APCWeighingProcess\n",
    "from archemist.stations.apc_weighing_station.handler import SimAPCWeighingStationHandler\n",
    "\n",
    "from archemist.core.state.robot_op import RobotTaskOp, RobotWaitOp\n",
    "from archemist.core.state.batch import Batch\n",
    "from archemist.core.state.lot import Lot\n",
    "from archemist.core.util.enums import OpOutcome, ProcessStatus\n",
    "\n",
    "from datetime import datetime\n",
    "\n",
    "from mongoengine import connect\n",
    "\n",
    "print(\"importing done\")\n",
    "\n",
    "\n",
    "class APCWeighingStationDoorHandlerTest(unittest.TestCase):\n",
    "    def setUp(self):\n",
    "        self._db_name = 'archemist_test'\n",
    "        self._client = connect(db=self._db_name, host='mongodb://localhost:27017', alias='archemist_state')\n",
    "\n",
    "        self.station_doc = {\n",
    "            'type': 'APCWeighingStation',\n",
    "            'id': 35,\n",
    "            'location': {'coordinates': [1,7], 'descriptor': \"ApcWeighingStation\"},\n",
    "            'total_lot_capacity': 1,\n",
    "            'handler': 'StationOpHandler',\n",
    "            'properties': \n",
    "            {\n",
    "                'funnel_storage_capacity': 3\n",
    "            },\n",
    "            'materials': None\n",
    "        }\n",
    "\n",
    "    def test_handler(self):\n",
    "        station = APCWeighingStation.from_dict(self.station_doc)\n",
    "        self.assertIsNotNone(station)\n",
    "        self.assertEqual(station.state, StationState.INACTIVE)\n",
    "            # construct lot\n",
    "        batch = Batch.from_args(1)\n",
    "        lot = Lot.from_args([batch])\n",
    "\n",
    "        # add lot to station\n",
    "        station.add_lot(lot)\n",
    "\n",
    "        # construct handler\n",
    "        handler = APCWeighingStationHandler(station)\n",
    "        # initialise handler\n",
    "        self.assertTrue(handler.initialise())\n",
    "\n",
    "        # test IKAHeatStirBatchOp\n",
    "        # construct op\n",
    "        sample = lot.batches[0].samples[0]\n",
    "        # t_op = APCWeighingOp.from_args(target_sample=sample)\n",
    "        t_op = APCOpenBalanceDoorOp.from_args()\n",
    "        # t_op = APCCloseBalanceDoorOp.from_args()\n",
    "\n",
    "        self.assertIsNotNone(t_op.object_id)\n",
    "\n",
    "        station.add_station_op(t_op)\n",
    "        station.update_assigned_op()\n",
    "        self.assertEqual(station.assigned_op, t_op)\n",
    "\n",
    "\n",
    "        # execute op\n",
    "        handler._seq_id = 2\n",
    "        handler.execute_op()\n",
    "\n",
    "        # wait for results\n",
    "        handler.is_op_execution_complete()\n",
    "\n",
    "        self.assertEqual(handler.is_op_execution_complete(), False)\n",
    "\n",
    "        while True:\n",
    "            if handler.is_op_execution_complete():\n",
    "                print(\"got the completion msg, moving on\")\n",
    "                break\n",
    "            else:\n",
    "                print(\"didn't get the completion msg, hence trying\")\n",
    "            time.sleep(2)\n",
    "\n",
    "        self.assertEqual(handler.is_op_execution_complete(), True)\n",
    "\n",
    "        outcome, op_results = handler.get_op_result()\n",
    "\n",
    "        self.assertEqual(outcome, OpOutcome.SUCCEEDED)\n",
    "        # self.assertIsInstance(op_results[0], APCWeighResult)\n",
    "        self.assertEqual(op_results, None)\n",
    "\n",
    "\n",
    "\n",
    "# if __name__ == '__main__':\n",
    "#     unittest.main()\n"
   ]
  },
  {
   "cell_type": "code",
   "execution_count": 13,
   "metadata": {},
   "outputs": [],
   "source": [
    "# Create a TestSuite\n",
    "# Balance_suite = unittest.TestLoader().loadTestsFromTestCase(APCWeighingStationHandlerTest)\n",
    "\n",
    "Door_suite = unittest.TestLoader().loadTestsFromTestCase(APCWeighingStationDoorHandlerTest)\n"
   ]
  },
  {
   "cell_type": "code",
   "execution_count": 14,
   "metadata": {},
   "outputs": [
    {
     "name": "stdout",
     "output_type": "stream",
     "text": [
      "[Batch-65b8d2ec448157c354cdba05]: (APCWeighingStation_35) stamp is added.\n",
      "[APCWeighingStation_35]: Lot-65b8d2ec448157c354cdba07 is added for processing at slot 0\n",
      "[APCWeighingStation_35]: <archemist.stations.apc_weighing_station.state.APCOpenBalanceDoorOp object at 0x7f123ba11760> is added to queued_op list\n",
      "[INFO] [1706611438.923251]: Opening balance door.\n",
      "didn't get the completion msg, hence trying\n",
      "didn't get the completion msg, hence trying\n",
      "didn't get the completion msg, hence trying\n",
      "didn't get the completion msg, hence trying\n",
      "didn't get the completion msg, hence trying\n"
     ]
    },
    {
     "name": "stderr",
     "output_type": "stream",
     "text": [
      "."
     ]
    },
    {
     "name": "stdout",
     "output_type": "stream",
     "text": [
      "got the completion msg, moving on\n"
     ]
    },
    {
     "name": "stderr",
     "output_type": "stream",
     "text": [
      "\n",
      "----------------------------------------------------------------------\n",
      "Ran 1 test in 12.169s\n",
      "\n",
      "OK\n"
     ]
    },
    {
     "data": {
      "text/plain": [
       "<unittest.runner.TextTestResult run=1 errors=0 failures=0>"
      ]
     },
     "execution_count": 14,
     "metadata": {},
     "output_type": "execute_result"
    }
   ],
   "source": [
    "# Run the tests\n",
    "unittest.TextTestRunner().run(Door_suite)"
   ]
  }
 ],
 "metadata": {
  "kernelspec": {
   "display_name": "Python 3",
   "language": "python",
   "name": "python3"
  },
  "language_info": {
   "codemirror_mode": {
    "name": "ipython",
    "version": 3
   },
   "file_extension": ".py",
   "mimetype": "text/x-python",
   "name": "python",
   "nbconvert_exporter": "python",
   "pygments_lexer": "ipython3",
   "version": "3.8.10"
  }
 },
 "nbformat": 4,
 "nbformat_minor": 2
}
