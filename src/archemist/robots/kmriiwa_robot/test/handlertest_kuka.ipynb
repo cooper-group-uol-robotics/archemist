{
 "cells": [
  {
   "cell_type": "code",
   "execution_count": 6,
   "metadata": {},
   "outputs": [
    {
     "name": "stdout",
     "output_type": "stream",
     "text": [
      "importing done\n"
     ]
    }
   ],
   "source": [
    "#!/usr/bin/env python3\n",
    "\n",
    "import unittest\n",
    "\n",
    "from archemist.core.state.robot_op import RobotMaintenanceOp, RobotNavOp, RobotTaskOp\n",
    "from archemist.core.state.robot import MobileRobot\n",
    "from archemist.robots.kmriiwa_robot.state import KMRIIWARobot\n",
    "\n",
    "from archemist.core.state.material import Liquid\n",
    "\n",
    "from archemist.robots.kmriiwa_robot.handler import KmriiwaROSHandler\n",
    "from archemist.core.state.batch import Batch\n",
    "from archemist.core.state.lot import Lot\n",
    "from archemist.core.util.enums import (\n",
    "    StationState,\n",
    "    OpOutcome,\n",
    "    RobotState,\n",
    "    MobileRobotMode,\n",
    ")\n",
    "from archemist.core.state.station_op_result import ProcessOpResult, MaterialOpResult\n",
    "from archemist.core.persistence.models_proxy import ModelProxy, ListProxy, DictProxy\n",
    "from archemist.stations.waters_lcms_station.handler import SimWatersLCMSStationHandler\n",
    "\n",
    "from archemist.core.state.robot_op import RobotTaskOp, RobotWaitOp\n",
    "from archemist.core.state.batch import Batch\n",
    "from archemist.core.state.lot import Lot\n",
    "from archemist.core.util.enums import OpOutcome, ProcessStatus\n",
    "from archemist.core.util import Location\n",
    "\n",
    "\n",
    "from datetime import datetime\n",
    "\n",
    "import time\n",
    "\n",
    "from mongoengine import connect\n",
    "\n",
    "print(\"importing done\")\n",
    "\n",
    "\n",
    "class APCKukaRobotHandlerTest(unittest.TestCase):\n",
    "    def setUp(self):\n",
    "        self._db_name = \"archemist_test\"\n",
    "        self._client = connect(\n",
    "            db=self._db_name, host=\"mongodb://localhost:27017\", alias=\"archemist_state\"\n",
    "        )\n",
    "\n",
    "        self.robot_doc = {\n",
    "            \"type\": \"Mobile Robot\",\n",
    "            \"id\": 1,\n",
    "            \"handler\": \"KmriiwaROSHandler\",\n",
    "            \"total_lot_capacity\": 1,\n",
    "            \"onboard_capacity\": 1,\n",
    "        }\n",
    "\n",
    "    def test_handler(self):\n",
    "        robot = KMRIIWARobot.from_dict(self.robot_doc)\n",
    "        self.assertIsNotNone(robot)\n",
    "        self.assertEqual(robot.state, RobotState.INACTIVE)\n",
    "\n",
    "        location_dict = {\"coordinates\": [18, 8], \"descriptor\": \"Example Location\"}\n",
    "\n",
    "        # construct handler\n",
    "        handler = KmriiwaROSHandler(robot)\n",
    "\n",
    "        # initialise handler\n",
    "        self.assertTrue(handler.initialise())\n",
    "\n",
    "        target_loc = Location.from_dict(location_dict)\n",
    "\n",
    "        # test Robot NavOp\n",
    "        # construct op\n",
    "        # t_op = RobotNavOp.from_args(\n",
    "        #     name=\"test_nav\",\n",
    "        #     target_robot=\"Kuka 4\",\n",
    "        #     target_location=target_loc,\n",
    "        #     params={},\n",
    "        # )\n",
    "\n",
    "        t_op = RobotTaskOp.from_args(\n",
    "            name=\"test_task\",\n",
    "            target_robot=\"Kuka 4\",\n",
    "            target_location=target_loc,\n",
    "            params={},\n",
    "            lbr_program_name=\"test\",\n",
    "            lbr_program_params=[],\n",
    "            fine_localization=True,\n",
    "            task_type=1\n",
    "        )\n",
    "\n",
    "        robot.add_op(t_op)\n",
    "        robot.update_assigned_op()\n",
    "        self.assertEqual(robot.assigned_op, t_op)\n",
    "\n",
    "        time.sleep(3)\n",
    "        \n",
    "        handler._kuka_cmd_seq = 10\n",
    "\n",
    "        handler.execute_op()\n",
    "\n",
    "        # wait for results\n",
    "        handler.is_op_execution_complete()\n",
    "\n",
    "        self.assertEqual(handler.is_op_execution_complete(), False)\n",
    "\n",
    "        while True:\n",
    "            if handler.is_op_execution_complete():\n",
    "                print(\"got the completion msg, moving on\")\n",
    "                break\n",
    "            else:\n",
    "                print(\"didn't get the completion msg, hence trying\")\n",
    "            time.sleep(2)\n",
    "\n",
    "        self.assertEqual(handler.is_op_execution_complete(), True)\n",
    "\n",
    "        outcome = handler.get_op_result()\n",
    "\n",
    "        self.assertEqual(outcome, True)"
   ]
  },
  {
   "cell_type": "code",
   "execution_count": 7,
   "metadata": {},
   "outputs": [
    {
     "name": "stdout",
     "output_type": "stream",
     "text": [
      "[KMRIIWARobot_1]: (RobotTaskOp - name: test_task - target:Kuka 4              - params: None - location: coordinates:(18, 8) - descriptor: Example Location) is queued\n",
      "[INFO] [1709210573.594069]: executing task test_task with cmd_seq: 10\n",
      "didn't get the completion msg, hence trying\n",
      "didn't get the completion msg, hence trying\n",
      "didn't get the completion msg, hence trying\n",
      "didn't get the completion msg, hence trying\n",
      "didn't get the completion msg, hence trying\n",
      "didn't get the completion msg, hence trying\n",
      "didn't get the completion msg, hence trying\n"
     ]
    },
    {
     "name": "stderr",
     "output_type": "stream",
     "text": [
      ".\n",
      "----------------------------------------------------------------------\n",
      "Ran 1 test in 19.150s\n",
      "\n",
      "OK\n"
     ]
    },
    {
     "name": "stdout",
     "output_type": "stream",
     "text": [
      "got the completion msg, moving on\n"
     ]
    },
    {
     "data": {
      "text/plain": [
       "<unittest.runner.TextTestResult run=1 errors=0 failures=0>"
      ]
     },
     "execution_count": 7,
     "metadata": {},
     "output_type": "execute_result"
    }
   ],
   "source": [
    "# Create a TestSuite\n",
    "# Balance_suite = unittest.TestLoader().loadTestsFromTestCase(APCWeighingStationHandlerTest)\n",
    "kuka_suite = unittest.TestLoader().loadTestsFromTestCase(APCKukaRobotHandlerTest)\n",
    "\n",
    "# Run the tests\n",
    "unittest.TextTestRunner().run(kuka_suite)\n"
   ]
  }
 ],
 "metadata": {
  "kernelspec": {
   "display_name": "Python 3",
   "language": "python",
   "name": "python3"
  },
  "language_info": {
   "codemirror_mode": {
    "name": "ipython",
    "version": 3
   },
   "file_extension": ".py",
   "mimetype": "text/x-python",
   "name": "python",
   "nbconvert_exporter": "python",
   "pygments_lexer": "ipython3",
   "version": "3.11.8"
  }
 },
 "nbformat": 4,
 "nbformat_minor": 2
}
